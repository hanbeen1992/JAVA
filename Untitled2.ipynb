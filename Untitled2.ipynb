{
  "nbformat": 4,
  "nbformat_minor": 0,
  "metadata": {
    "colab": {
      "name": "Untitled2.ipynb",
      "provenance": [],
      "authorship_tag": "ABX9TyNk178BCObHsfN7w/MfF2gM",
      "include_colab_link": true
    },
    "kernelspec": {
      "name": "python3",
      "display_name": "Python 3"
    },
    "language_info": {
      "name": "python"
    }
  },
  "cells": [
    {
      "cell_type": "markdown",
      "metadata": {
        "id": "view-in-github",
        "colab_type": "text"
      },
      "source": [
        "<a href=\"https://colab.research.google.com/github/hanbeen1992/JAVA/blob/main/Untitled2.ipynb\" target=\"_parent\"><img src=\"https://colab.research.google.com/assets/colab-badge.svg\" alt=\"Open In Colab\"/></a>"
      ]
    },
    {
      "cell_type": "code",
      "metadata": {
        "colab": {
          "base_uri": "https://localhost:8080/",
          "height": 17
        },
        "id": "7NUOqbYzi5ZX",
        "outputId": "5a189225-b671-4a59-f709-18957d22d976"
      },
      "source": [
        "import pandas as pd\n",
        "\n",
        "import plotly.express as px\n",
        "from plotly.subplots import make_subplots\n",
        "import plotly.figure_factory as ff\n",
        "import plotly.offline as offline\n",
        "import plotly.graph_objs as go\n",
        "offline.init_notebook_mode(connected = True)"
      ],
      "execution_count": 3,
      "outputs": [
        {
          "output_type": "display_data",
          "data": {
            "text/html": [
              "        <script type=\"text/javascript\">\n",
              "        window.PlotlyConfig = {MathJaxConfig: 'local'};\n",
              "        if (window.MathJax) {MathJax.Hub.Config({SVG: {font: \"STIX-Web\"}});}\n",
              "        if (typeof require !== 'undefined') {\n",
              "        require.undef(\"plotly\");\n",
              "        requirejs.config({\n",
              "            paths: {\n",
              "                'plotly': ['https://cdn.plot.ly/plotly-latest.min']\n",
              "            }\n",
              "        });\n",
              "        require(['plotly'], function(Plotly) {\n",
              "            window._Plotly = Plotly;\n",
              "        });\n",
              "        }\n",
              "        </script>\n",
              "        "
            ]
          },
          "metadata": {}
        }
      ]
    },
    {
      "cell_type": "code",
      "metadata": {
        "colab": {
          "base_uri": "https://localhost:8080/",
          "height": 463
        },
        "id": "eayKhRjRpkHi",
        "outputId": "f5f42d16-2fb3-4128-a508-24dffeeb30bc"
      },
      "source": [
        "df = pd.read_csv('/content/sample_data/kaggle_survey_2021_responses.csv',low_memory=False)\n",
        "questions = df.iloc[0, :].T\n",
        "df = df.iloc[1:, :]\n",
        "df.head(5)"
      ],
      "execution_count": 6,
      "outputs": [
        {
          "output_type": "execute_result",
          "data": {
            "text/html": [
              "<div>\n",
              "<style scoped>\n",
              "    .dataframe tbody tr th:only-of-type {\n",
              "        vertical-align: middle;\n",
              "    }\n",
              "\n",
              "    .dataframe tbody tr th {\n",
              "        vertical-align: top;\n",
              "    }\n",
              "\n",
              "    .dataframe thead th {\n",
              "        text-align: right;\n",
              "    }\n",
              "</style>\n",
              "<table border=\"1\" class=\"dataframe\">\n",
              "  <thead>\n",
              "    <tr style=\"text-align: right;\">\n",
              "      <th></th>\n",
              "      <th>Time from Start to Finish (seconds)</th>\n",
              "      <th>Q1</th>\n",
              "      <th>Q2</th>\n",
              "      <th>Q3</th>\n",
              "      <th>Q4</th>\n",
              "      <th>Q5</th>\n",
              "      <th>Q6</th>\n",
              "      <th>Q7_Part_1</th>\n",
              "      <th>Q7_Part_2</th>\n",
              "      <th>Q7_Part_3</th>\n",
              "      <th>Q7_Part_4</th>\n",
              "      <th>Q7_Part_5</th>\n",
              "      <th>Q7_Part_6</th>\n",
              "      <th>Q7_Part_7</th>\n",
              "      <th>Q7_Part_8</th>\n",
              "      <th>Q7_Part_9</th>\n",
              "      <th>Q7_Part_10</th>\n",
              "      <th>Q7_Part_11</th>\n",
              "      <th>Q7_Part_12</th>\n",
              "      <th>Q7_OTHER</th>\n",
              "      <th>Q8</th>\n",
              "      <th>Q9_Part_1</th>\n",
              "      <th>Q9_Part_2</th>\n",
              "      <th>Q9_Part_3</th>\n",
              "      <th>Q9_Part_4</th>\n",
              "      <th>Q9_Part_5</th>\n",
              "      <th>Q9_Part_6</th>\n",
              "      <th>Q9_Part_7</th>\n",
              "      <th>Q9_Part_8</th>\n",
              "      <th>Q9_Part_9</th>\n",
              "      <th>Q9_Part_10</th>\n",
              "      <th>Q9_Part_11</th>\n",
              "      <th>Q9_Part_12</th>\n",
              "      <th>Q9_OTHER</th>\n",
              "      <th>Q10_Part_1</th>\n",
              "      <th>Q10_Part_2</th>\n",
              "      <th>Q10_Part_3</th>\n",
              "      <th>Q10_Part_4</th>\n",
              "      <th>Q10_Part_5</th>\n",
              "      <th>Q10_Part_6</th>\n",
              "      <th>...</th>\n",
              "      <th>Q34_B_Part_6</th>\n",
              "      <th>Q34_B_Part_7</th>\n",
              "      <th>Q34_B_Part_8</th>\n",
              "      <th>Q34_B_Part_9</th>\n",
              "      <th>Q34_B_Part_10</th>\n",
              "      <th>Q34_B_Part_11</th>\n",
              "      <th>Q34_B_Part_12</th>\n",
              "      <th>Q34_B_Part_13</th>\n",
              "      <th>Q34_B_Part_14</th>\n",
              "      <th>Q34_B_Part_15</th>\n",
              "      <th>Q34_B_Part_16</th>\n",
              "      <th>Q34_B_OTHER</th>\n",
              "      <th>Q36_B_Part_1</th>\n",
              "      <th>Q36_B_Part_2</th>\n",
              "      <th>Q36_B_Part_3</th>\n",
              "      <th>Q36_B_Part_4</th>\n",
              "      <th>Q36_B_Part_5</th>\n",
              "      <th>Q36_B_Part_6</th>\n",
              "      <th>Q36_B_Part_7</th>\n",
              "      <th>Q36_B_OTHER</th>\n",
              "      <th>Q37_B_Part_1</th>\n",
              "      <th>Q37_B_Part_2</th>\n",
              "      <th>Q37_B_Part_3</th>\n",
              "      <th>Q37_B_Part_4</th>\n",
              "      <th>Q37_B_Part_5</th>\n",
              "      <th>Q37_B_Part_6</th>\n",
              "      <th>Q37_B_Part_7</th>\n",
              "      <th>Q37_B_OTHER</th>\n",
              "      <th>Q38_B_Part_1</th>\n",
              "      <th>Q38_B_Part_2</th>\n",
              "      <th>Q38_B_Part_3</th>\n",
              "      <th>Q38_B_Part_4</th>\n",
              "      <th>Q38_B_Part_5</th>\n",
              "      <th>Q38_B_Part_6</th>\n",
              "      <th>Q38_B_Part_7</th>\n",
              "      <th>Q38_B_Part_8</th>\n",
              "      <th>Q38_B_Part_9</th>\n",
              "      <th>Q38_B_Part_10</th>\n",
              "      <th>Q38_B_Part_11</th>\n",
              "      <th>Q38_B_OTHER</th>\n",
              "    </tr>\n",
              "  </thead>\n",
              "  <tbody>\n",
              "    <tr>\n",
              "      <th>1</th>\n",
              "      <td>910</td>\n",
              "      <td>50-54</td>\n",
              "      <td>Man</td>\n",
              "      <td>India</td>\n",
              "      <td>Bachelor’s degree</td>\n",
              "      <td>Other</td>\n",
              "      <td>5-10 years</td>\n",
              "      <td>Python</td>\n",
              "      <td>R</td>\n",
              "      <td>NaN</td>\n",
              "      <td>NaN</td>\n",
              "      <td>NaN</td>\n",
              "      <td>NaN</td>\n",
              "      <td>NaN</td>\n",
              "      <td>NaN</td>\n",
              "      <td>NaN</td>\n",
              "      <td>NaN</td>\n",
              "      <td>NaN</td>\n",
              "      <td>NaN</td>\n",
              "      <td>NaN</td>\n",
              "      <td>Python</td>\n",
              "      <td>NaN</td>\n",
              "      <td>NaN</td>\n",
              "      <td>NaN</td>\n",
              "      <td>NaN</td>\n",
              "      <td>NaN</td>\n",
              "      <td>NaN</td>\n",
              "      <td>NaN</td>\n",
              "      <td>NaN</td>\n",
              "      <td>Vim / Emacs</td>\n",
              "      <td>NaN</td>\n",
              "      <td>NaN</td>\n",
              "      <td>NaN</td>\n",
              "      <td>NaN</td>\n",
              "      <td>NaN</td>\n",
              "      <td>Colab Notebooks</td>\n",
              "      <td>NaN</td>\n",
              "      <td>NaN</td>\n",
              "      <td>NaN</td>\n",
              "      <td>NaN</td>\n",
              "      <td>...</td>\n",
              "      <td>NaN</td>\n",
              "      <td>NaN</td>\n",
              "      <td>NaN</td>\n",
              "      <td>NaN</td>\n",
              "      <td>NaN</td>\n",
              "      <td>NaN</td>\n",
              "      <td>NaN</td>\n",
              "      <td>NaN</td>\n",
              "      <td>NaN</td>\n",
              "      <td>NaN</td>\n",
              "      <td>NaN</td>\n",
              "      <td>NaN</td>\n",
              "      <td>NaN</td>\n",
              "      <td>NaN</td>\n",
              "      <td>NaN</td>\n",
              "      <td>NaN</td>\n",
              "      <td>NaN</td>\n",
              "      <td>NaN</td>\n",
              "      <td>NaN</td>\n",
              "      <td>NaN</td>\n",
              "      <td>NaN</td>\n",
              "      <td>NaN</td>\n",
              "      <td>NaN</td>\n",
              "      <td>NaN</td>\n",
              "      <td>NaN</td>\n",
              "      <td>NaN</td>\n",
              "      <td>NaN</td>\n",
              "      <td>NaN</td>\n",
              "      <td>NaN</td>\n",
              "      <td>NaN</td>\n",
              "      <td>NaN</td>\n",
              "      <td>NaN</td>\n",
              "      <td>NaN</td>\n",
              "      <td>NaN</td>\n",
              "      <td>NaN</td>\n",
              "      <td>NaN</td>\n",
              "      <td>NaN</td>\n",
              "      <td>NaN</td>\n",
              "      <td>NaN</td>\n",
              "      <td>NaN</td>\n",
              "    </tr>\n",
              "    <tr>\n",
              "      <th>2</th>\n",
              "      <td>784</td>\n",
              "      <td>50-54</td>\n",
              "      <td>Man</td>\n",
              "      <td>Indonesia</td>\n",
              "      <td>Master’s degree</td>\n",
              "      <td>Program/Project Manager</td>\n",
              "      <td>20+ years</td>\n",
              "      <td>NaN</td>\n",
              "      <td>NaN</td>\n",
              "      <td>SQL</td>\n",
              "      <td>C</td>\n",
              "      <td>C++</td>\n",
              "      <td>Java</td>\n",
              "      <td>NaN</td>\n",
              "      <td>NaN</td>\n",
              "      <td>NaN</td>\n",
              "      <td>NaN</td>\n",
              "      <td>NaN</td>\n",
              "      <td>NaN</td>\n",
              "      <td>NaN</td>\n",
              "      <td>Python</td>\n",
              "      <td>NaN</td>\n",
              "      <td>NaN</td>\n",
              "      <td>NaN</td>\n",
              "      <td>NaN</td>\n",
              "      <td>NaN</td>\n",
              "      <td>NaN</td>\n",
              "      <td>Notepad++</td>\n",
              "      <td>NaN</td>\n",
              "      <td>NaN</td>\n",
              "      <td>NaN</td>\n",
              "      <td>Jupyter Notebook</td>\n",
              "      <td>NaN</td>\n",
              "      <td>NaN</td>\n",
              "      <td>Kaggle Notebooks</td>\n",
              "      <td>Colab Notebooks</td>\n",
              "      <td>NaN</td>\n",
              "      <td>NaN</td>\n",
              "      <td>NaN</td>\n",
              "      <td>NaN</td>\n",
              "      <td>...</td>\n",
              "      <td>NaN</td>\n",
              "      <td>NaN</td>\n",
              "      <td>Qlik</td>\n",
              "      <td>NaN</td>\n",
              "      <td>NaN</td>\n",
              "      <td>NaN</td>\n",
              "      <td>NaN</td>\n",
              "      <td>NaN</td>\n",
              "      <td>NaN</td>\n",
              "      <td>NaN</td>\n",
              "      <td>NaN</td>\n",
              "      <td>NaN</td>\n",
              "      <td>NaN</td>\n",
              "      <td>NaN</td>\n",
              "      <td>Automated model selection (e.g. auto-sklearn, ...</td>\n",
              "      <td>NaN</td>\n",
              "      <td>NaN</td>\n",
              "      <td>NaN</td>\n",
              "      <td>NaN</td>\n",
              "      <td>NaN</td>\n",
              "      <td>Google Cloud AutoML</td>\n",
              "      <td>NaN</td>\n",
              "      <td>NaN</td>\n",
              "      <td>NaN</td>\n",
              "      <td>NaN</td>\n",
              "      <td>NaN</td>\n",
              "      <td>NaN</td>\n",
              "      <td>NaN</td>\n",
              "      <td>NaN</td>\n",
              "      <td>NaN</td>\n",
              "      <td>NaN</td>\n",
              "      <td>NaN</td>\n",
              "      <td>NaN</td>\n",
              "      <td>NaN</td>\n",
              "      <td>NaN</td>\n",
              "      <td>NaN</td>\n",
              "      <td>NaN</td>\n",
              "      <td>NaN</td>\n",
              "      <td>None</td>\n",
              "      <td>NaN</td>\n",
              "    </tr>\n",
              "    <tr>\n",
              "      <th>3</th>\n",
              "      <td>924</td>\n",
              "      <td>22-24</td>\n",
              "      <td>Man</td>\n",
              "      <td>Pakistan</td>\n",
              "      <td>Master’s degree</td>\n",
              "      <td>Software Engineer</td>\n",
              "      <td>1-3 years</td>\n",
              "      <td>Python</td>\n",
              "      <td>NaN</td>\n",
              "      <td>NaN</td>\n",
              "      <td>NaN</td>\n",
              "      <td>C++</td>\n",
              "      <td>Java</td>\n",
              "      <td>NaN</td>\n",
              "      <td>NaN</td>\n",
              "      <td>NaN</td>\n",
              "      <td>NaN</td>\n",
              "      <td>NaN</td>\n",
              "      <td>NaN</td>\n",
              "      <td>NaN</td>\n",
              "      <td>Python</td>\n",
              "      <td>NaN</td>\n",
              "      <td>NaN</td>\n",
              "      <td>NaN</td>\n",
              "      <td>NaN</td>\n",
              "      <td>PyCharm</td>\n",
              "      <td>NaN</td>\n",
              "      <td>NaN</td>\n",
              "      <td>NaN</td>\n",
              "      <td>NaN</td>\n",
              "      <td>NaN</td>\n",
              "      <td>Jupyter Notebook</td>\n",
              "      <td>NaN</td>\n",
              "      <td>Other</td>\n",
              "      <td>Kaggle Notebooks</td>\n",
              "      <td>NaN</td>\n",
              "      <td>NaN</td>\n",
              "      <td>NaN</td>\n",
              "      <td>NaN</td>\n",
              "      <td>NaN</td>\n",
              "      <td>...</td>\n",
              "      <td>NaN</td>\n",
              "      <td>NaN</td>\n",
              "      <td>NaN</td>\n",
              "      <td>NaN</td>\n",
              "      <td>NaN</td>\n",
              "      <td>NaN</td>\n",
              "      <td>NaN</td>\n",
              "      <td>NaN</td>\n",
              "      <td>NaN</td>\n",
              "      <td>NaN</td>\n",
              "      <td>NaN</td>\n",
              "      <td>NaN</td>\n",
              "      <td>NaN</td>\n",
              "      <td>NaN</td>\n",
              "      <td>Automated model selection (e.g. auto-sklearn, ...</td>\n",
              "      <td>NaN</td>\n",
              "      <td>NaN</td>\n",
              "      <td>NaN</td>\n",
              "      <td>NaN</td>\n",
              "      <td>NaN</td>\n",
              "      <td>NaN</td>\n",
              "      <td>NaN</td>\n",
              "      <td>NaN</td>\n",
              "      <td>DataRobot AutoML</td>\n",
              "      <td>NaN</td>\n",
              "      <td>NaN</td>\n",
              "      <td>NaN</td>\n",
              "      <td>NaN</td>\n",
              "      <td>NaN</td>\n",
              "      <td>NaN</td>\n",
              "      <td>NaN</td>\n",
              "      <td>NaN</td>\n",
              "      <td>TensorBoard</td>\n",
              "      <td>NaN</td>\n",
              "      <td>NaN</td>\n",
              "      <td>NaN</td>\n",
              "      <td>NaN</td>\n",
              "      <td>NaN</td>\n",
              "      <td>NaN</td>\n",
              "      <td>NaN</td>\n",
              "    </tr>\n",
              "    <tr>\n",
              "      <th>4</th>\n",
              "      <td>575</td>\n",
              "      <td>45-49</td>\n",
              "      <td>Man</td>\n",
              "      <td>Mexico</td>\n",
              "      <td>Doctoral degree</td>\n",
              "      <td>Research Scientist</td>\n",
              "      <td>20+ years</td>\n",
              "      <td>Python</td>\n",
              "      <td>NaN</td>\n",
              "      <td>NaN</td>\n",
              "      <td>NaN</td>\n",
              "      <td>NaN</td>\n",
              "      <td>NaN</td>\n",
              "      <td>NaN</td>\n",
              "      <td>NaN</td>\n",
              "      <td>NaN</td>\n",
              "      <td>NaN</td>\n",
              "      <td>NaN</td>\n",
              "      <td>NaN</td>\n",
              "      <td>NaN</td>\n",
              "      <td>Python</td>\n",
              "      <td>NaN</td>\n",
              "      <td>NaN</td>\n",
              "      <td>NaN</td>\n",
              "      <td>NaN</td>\n",
              "      <td>NaN</td>\n",
              "      <td>Spyder</td>\n",
              "      <td>NaN</td>\n",
              "      <td>NaN</td>\n",
              "      <td>NaN</td>\n",
              "      <td>NaN</td>\n",
              "      <td>Jupyter Notebook</td>\n",
              "      <td>NaN</td>\n",
              "      <td>NaN</td>\n",
              "      <td>NaN</td>\n",
              "      <td>Colab Notebooks</td>\n",
              "      <td>NaN</td>\n",
              "      <td>NaN</td>\n",
              "      <td>NaN</td>\n",
              "      <td>NaN</td>\n",
              "      <td>...</td>\n",
              "      <td>NaN</td>\n",
              "      <td>NaN</td>\n",
              "      <td>NaN</td>\n",
              "      <td>NaN</td>\n",
              "      <td>NaN</td>\n",
              "      <td>NaN</td>\n",
              "      <td>NaN</td>\n",
              "      <td>NaN</td>\n",
              "      <td>NaN</td>\n",
              "      <td>NaN</td>\n",
              "      <td>None</td>\n",
              "      <td>NaN</td>\n",
              "      <td>NaN</td>\n",
              "      <td>NaN</td>\n",
              "      <td>NaN</td>\n",
              "      <td>NaN</td>\n",
              "      <td>NaN</td>\n",
              "      <td>NaN</td>\n",
              "      <td>None</td>\n",
              "      <td>NaN</td>\n",
              "      <td>NaN</td>\n",
              "      <td>NaN</td>\n",
              "      <td>NaN</td>\n",
              "      <td>NaN</td>\n",
              "      <td>NaN</td>\n",
              "      <td>NaN</td>\n",
              "      <td>NaN</td>\n",
              "      <td>NaN</td>\n",
              "      <td>NaN</td>\n",
              "      <td>NaN</td>\n",
              "      <td>NaN</td>\n",
              "      <td>NaN</td>\n",
              "      <td>NaN</td>\n",
              "      <td>NaN</td>\n",
              "      <td>NaN</td>\n",
              "      <td>NaN</td>\n",
              "      <td>NaN</td>\n",
              "      <td>NaN</td>\n",
              "      <td>None</td>\n",
              "      <td>NaN</td>\n",
              "    </tr>\n",
              "    <tr>\n",
              "      <th>5</th>\n",
              "      <td>781</td>\n",
              "      <td>45-49</td>\n",
              "      <td>Man</td>\n",
              "      <td>India</td>\n",
              "      <td>Doctoral degree</td>\n",
              "      <td>Other</td>\n",
              "      <td>&lt; 1 years</td>\n",
              "      <td>Python</td>\n",
              "      <td>NaN</td>\n",
              "      <td>NaN</td>\n",
              "      <td>C</td>\n",
              "      <td>NaN</td>\n",
              "      <td>NaN</td>\n",
              "      <td>NaN</td>\n",
              "      <td>NaN</td>\n",
              "      <td>NaN</td>\n",
              "      <td>NaN</td>\n",
              "      <td>MATLAB</td>\n",
              "      <td>NaN</td>\n",
              "      <td>NaN</td>\n",
              "      <td>Python</td>\n",
              "      <td>NaN</td>\n",
              "      <td>NaN</td>\n",
              "      <td>NaN</td>\n",
              "      <td>NaN</td>\n",
              "      <td>NaN</td>\n",
              "      <td>Spyder</td>\n",
              "      <td>NaN</td>\n",
              "      <td>NaN</td>\n",
              "      <td>NaN</td>\n",
              "      <td>MATLAB</td>\n",
              "      <td>Jupyter Notebook</td>\n",
              "      <td>NaN</td>\n",
              "      <td>NaN</td>\n",
              "      <td>NaN</td>\n",
              "      <td>NaN</td>\n",
              "      <td>NaN</td>\n",
              "      <td>NaN</td>\n",
              "      <td>NaN</td>\n",
              "      <td>NaN</td>\n",
              "      <td>...</td>\n",
              "      <td>NaN</td>\n",
              "      <td>NaN</td>\n",
              "      <td>NaN</td>\n",
              "      <td>NaN</td>\n",
              "      <td>NaN</td>\n",
              "      <td>NaN</td>\n",
              "      <td>NaN</td>\n",
              "      <td>NaN</td>\n",
              "      <td>NaN</td>\n",
              "      <td>NaN</td>\n",
              "      <td>NaN</td>\n",
              "      <td>NaN</td>\n",
              "      <td>NaN</td>\n",
              "      <td>NaN</td>\n",
              "      <td>NaN</td>\n",
              "      <td>NaN</td>\n",
              "      <td>NaN</td>\n",
              "      <td>NaN</td>\n",
              "      <td>NaN</td>\n",
              "      <td>NaN</td>\n",
              "      <td>NaN</td>\n",
              "      <td>NaN</td>\n",
              "      <td>NaN</td>\n",
              "      <td>NaN</td>\n",
              "      <td>NaN</td>\n",
              "      <td>NaN</td>\n",
              "      <td>NaN</td>\n",
              "      <td>NaN</td>\n",
              "      <td>NaN</td>\n",
              "      <td>NaN</td>\n",
              "      <td>NaN</td>\n",
              "      <td>NaN</td>\n",
              "      <td>NaN</td>\n",
              "      <td>NaN</td>\n",
              "      <td>NaN</td>\n",
              "      <td>NaN</td>\n",
              "      <td>NaN</td>\n",
              "      <td>NaN</td>\n",
              "      <td>NaN</td>\n",
              "      <td>NaN</td>\n",
              "    </tr>\n",
              "  </tbody>\n",
              "</table>\n",
              "<p>5 rows × 369 columns</p>\n",
              "</div>"
            ],
            "text/plain": [
              "  Time from Start to Finish (seconds)     Q1  ... Q38_B_Part_11 Q38_B_OTHER\n",
              "1                                 910  50-54  ...           NaN         NaN\n",
              "2                                 784  50-54  ...          None         NaN\n",
              "3                                 924  22-24  ...           NaN         NaN\n",
              "4                                 575  45-49  ...          None         NaN\n",
              "5                                 781  45-49  ...           NaN         NaN\n",
              "\n",
              "[5 rows x 369 columns]"
            ]
          },
          "metadata": {},
          "execution_count": 6
        }
      ]
    },
    {
      "cell_type": "code",
      "metadata": {
        "id": "IPBq_O4Lrius"
      },
      "source": [
        "# top 10 country in kaggle \n",
        "# that top 10 country having the gender ratio \n",
        "# 1 chart (bar plot)\n",
        "df_21_q2q3 = df[df['Q2']!='ETC']\n",
        "# Q2 What is your gender? - Selected Choice\n",
        "# Q2의 선택한 데이터를 제외한 부분에 대해 없애기 위해??\n",
        "df_c = pd.crosstab(df_21_q2q3['Q2'], df_21_q2q3['Q3']).T.sort_values(by='Man', ascending=False)[:10].reset_index()\n",
        "# 교차 일람표/  T.sort_values 로 Q2와 Q3 데이터 교차 / Q2 가 컬럼 , Q3가 인덱스 / man 으로 정렬 하여 데이터 정렬/ / 상위 데이터 10개(내림차순) 불러옴. 리셋인덱스로 Q2 데이터(인뎃스) 정리함.\n"
      ],
      "execution_count": 7,
      "outputs": []
    },
    {
      "cell_type": "code",
      "metadata": {
        "id": "cG2JKM55rn5u"
      },
      "source": [
        "# 2 plot (Scatter chart)\n",
        "# Top 10 country in kaggle; gender (Woman) vs experience\n",
        "dfg = df[df['Q2']=='Woman']\n",
        "# Q2가 여자인 경우의 데이터\n",
        "\n",
        "dfg = pd.crosstab(dfg['Q3'], dfg['Q6'], margins=True, margins_name=\"Total\").sort_values(by='Total', ascending=False).reset_index()\n",
        "# Q3 In which country do you currently reside? (거주하고 있는 나라)\n",
        "# Q6 For how many years have you been writing code and/or programming?\n",
        "# Q3 인덱스, Q6가 컬럼으로 들어감.(인덱스 리셋으로  데이터 정렬) / margins 로 총합을 구함. / 토탈이 가장 큰순으로 정렬 \n",
        "dfg = dfg.iloc[1:, :-1]\n",
        "dfg = dfg.loc(axis=0)[1,2,3,16,7,10,8,6,11,5].reset_index(drop=True)\n",
        "# 이부분은 잘 이해가 안감 ...."
      ],
      "execution_count": 8,
      "outputs": []
    },
    {
      "cell_type": "code",
      "metadata": {
        "colab": {
          "base_uri": "https://localhost:8080/",
          "height": 767
        },
        "id": "pR8TcZnGrq2h",
        "outputId": "c16b4d7f-8567-41c3-959a-db3133a10d94"
      },
      "source": [
        "## 차트 설명\n",
        "# 1 차트 (바 plot): 상위 10개국의 성 비율\n",
        "# 2 chart (scatter plot): 상위 10개국 여성들의 프로그래밍 경력?\n",
        "# 차트는 해당 코드 뜯어서 다시 봐야함.\n",
        "\n",
        "fig = make_subplots(rows=2, cols=1, shared_xaxes=True, horizontal_spacing=0, vertical_spacing=0.09)                    \n",
        "fig.add_trace(go.Bar(x=df_c['Q3'], y=df_c['Man'], marker_color='#56627d', name='Man', \n",
        "                     text = df_c.Man, textposition = \"inside\",\n",
        "                     ), row=1, col=1)\n",
        "fig.add_trace(go.Bar(x=df_c['Q3'], y=df_c['Woman'], marker_color='#f36196', name='Woman',\n",
        "                     text = df_c.Woman, textposition = \"outside\",                  \n",
        "              ), row=1, col=1)\n",
        "fig.add_trace(go.Scatter(x=df_c['Q3'], y=[-52, -45, -40, -15, -38, -15, -30, -38, -15, -30],\n",
        "    mode='markers', showlegend=False,        \n",
        "    marker=dict(size=[130,90,60,40,50,40,40,50,40,40], \n",
        "                color=['#c6ccd8','#c6ccd8','#c6ccd8','#56627d','#c6ccd8','#56627d','#56627d','#56627d','#56627d','#56627d']), \n",
        "), row=2, col=1)\n",
        "\n",
        "\n",
        "fig.update_xaxes(visible=False, row=2, col=1)\n",
        "fig.update_yaxes(visible=False)\n",
        "fig.update_traces(hovertemplate=None, marker=dict(line=dict(width=0)))\n",
        "fig.update_layout(height=750, hovermode=False,\n",
        "                  margin=dict(t=100, b=20, l=0, r=30),\n",
        "                  title=\"<span style='font-size:28px; color: #496595'>Top 10 </span> Countries having highest Response: Gender <br>\"\n",
        "                  \"<span style='font-size:17px;'> Highest level of experience of<b style='color:#f36196'> Woman </b></span>country wise <span style='font-size:15px; color:#c6ccd8'>(1-3 Years</span> & <span style='font-size:15px; color:#56627d'><1 Year)</span>\",               \n",
        "                  plot_bgcolor='#333', paper_bgcolor='#333',\n",
        "                  title_font=dict(color='#8a8d93', family=\"Lato, sans-serif\"),\n",
        "                  font=dict(color='#8a8d93'),\n",
        "                  legend=dict(orientation=\"h\", yanchor=\"bottom\",  xanchor=\"center\", x=0.5, y=0.01))\n",
        "\n",
        "fig.add_shape(type='line', x0=0, y0=0, x1=0, y1=-34,\n",
        "              line=dict(color='#c6ccd8', width = 2), row=2, col=1)\n",
        "fig.add_shape(type='line', x0=1, y0=0, x1=1, y1=-33,\n",
        "              line=dict(color='#c6ccd8', width = 2), row=2, col=1)\n",
        "fig.add_shape(type='line', x0=2, y0=0, x1=2, y1=-32,\n",
        "              line=dict(color='#c6ccd8', width = 2), row=2, col=1)\n",
        "fig.add_shape(type='line', x0=3, y0=0, x1=3, y1=-10,\n",
        "              line=dict(color='#c6ccd8', width = 2), row=2, col=1)\n",
        "fig.add_shape(type='line', x0=4, y0=0, x1=4, y1=-31,\n",
        "              line=dict(color='#c6ccd8', width = 2), row=2, col=1)\n",
        "fig.add_shape(type='line', x0=5, y0=0, x1=5, y1=-10,\n",
        "              line=dict(color='#c6ccd8', width = 2), row=2, col=1)\n",
        "fig.add_shape(type='line', x0=6, y0=0, x1=6, y1=-25,\n",
        "              line=dict(color='#c6ccd8', width = 2), row=2, col=1)\n",
        "fig.add_shape(type='line', x0=7, y0=0, x1=7, y1=-31,\n",
        "              line=dict(color='#c6ccd8', width = 2), row=2, col=1)\n",
        "fig.add_shape(type='line', x0=8, y0=0, x1=8, y1=-10,\n",
        "              line=dict(color='#c6ccd8', width = 2), row=2, col=1)\n",
        "fig.add_shape(type='line', x0=9, y0=0, x1=9, y1=-25,\n",
        "              line=dict(color='#c6ccd8', width = 2), row=2, col=1)\n",
        "\n",
        "\n",
        "fig.add_annotation(dict(x=0.12, ax=0, ay=0, \n",
        "                    xref = \"paper\", yref = \"paper\", text=\"<span style='size:16px'><b>India </b></span>\"))\n",
        "fig.add_annotation(dict(x=0.21, ax=0, ay=0, align='left',\n",
        "                    xref = \"paper\", yref = \"paper\", text=\"<span style='size:16px'><b>USA </b></span>\"))\n",
        "fig.add_annotation(dict(x=0.30, ax=0, ay=0, align='left',\n",
        "                    xref = \"paper\", yref = \"paper\", text=\"<span style='size:16px'><b>Other </b></span>\"))\n",
        "fig.add_annotation(dict(x=0.39, ax=0, ay=0, align='left',\n",
        "                    xref = \"paper\", yref = \"paper\", text=\"<span style='size:16px'><b>Japan </b></span>\"))\n",
        "fig.add_annotation(dict(x=0.48, ax=0, ay=0, align='left',\n",
        "                    xref = \"paper\", yref = \"paper\", text=\"<span style='size:16px'><b>China </b></span>\"))\n",
        "fig.add_annotation(dict(x=0.56, ax=0, ay=0, align='left',\n",
        "                    xref = \"paper\", yref = \"paper\", text=\"<span style='size:16px'><b>Brazil </b></span>\"))\n",
        "fig.add_annotation(dict(x=0.65, ax=0, ay=0, align='left',\n",
        "                    xref = \"paper\", yref = \"paper\", text=\"<span style='size:16px'><b>Russia </b></span>\"))\n",
        "fig.add_annotation(dict(x=0.75, ax=0, ay=0, align='left',\n",
        "                    xref = \"paper\", yref = \"paper\", text=\"<span style='size:16px'><b>Nigeria </b></span>\"))\n",
        "fig.add_annotation(dict(x=0.84, ax=0, ay=0, align='left', xref = \"paper\", yref = \"paper\",\n",
        "                        text=\"<span style='size:16px'><b>Pakistan </b></span>\"))\n",
        "fig.add_annotation(dict(x=0.92, ax=0, ay=0, align='left',\n",
        "                    xref = \"paper\", yref = \"paper\", text=\"<span style='size:16px'><b>UK &<br>Northern<br>Ireland </b></span>\"))\n",
        "fig.show()"
      ],
      "execution_count": 9,
      "outputs": [
        {
          "output_type": "display_data",
          "data": {
            "text/html": [
              "<div>\n",
              "        \n",
              "        \n",
              "            <div id=\"22f1c2e0-a712-43e2-bb63-bea277d431e6\" class=\"plotly-graph-div\" style=\"height:750px; width:100%;\"></div>\n",
              "            <script type=\"text/javascript\">\n",
              "                require([\"plotly\"], function(Plotly) {\n",
              "                    window.PLOTLYENV=window.PLOTLYENV || {};\n",
              "                    \n",
              "                if (document.getElementById(\"22f1c2e0-a712-43e2-bb63-bea277d431e6\")) {\n",
              "                    Plotly.newPlot(\n",
              "                        '22f1c2e0-a712-43e2-bb63-bea277d431e6',\n",
              "                        [{\"marker\": {\"color\": \"#56627d\", \"line\": {\"width\": 0}}, \"name\": \"Man\", \"text\": [5681.0, 1949.0, 1004.0, 836.0, 672.0, 664.0, 630.0, 594.0, 448.0, 429.0], \"textposition\": \"inside\", \"type\": \"bar\", \"x\": [\"India\", \"United States of America\", \"Other\", \"Japan\", \"China\", \"Brazil\", \"Russia\", \"Nigeria\", \"Pakistan\", \"United Kingdom of Great Britain and Northern Ireland\"], \"xaxis\": \"x\", \"y\": [5681, 1949, 1004, 836, 672, 664, 630, 594, 448, 429], \"yaxis\": \"y\"}, {\"marker\": {\"color\": \"#f36196\", \"line\": {\"width\": 0}}, \"name\": \"Woman\", \"text\": [1656.0, 606.0, 227.0, 68.0, 106.0, 81.0, 104.0, 107.0, 81.0, 113.0], \"textposition\": \"outside\", \"type\": \"bar\", \"x\": [\"India\", \"United States of America\", \"Other\", \"Japan\", \"China\", \"Brazil\", \"Russia\", \"Nigeria\", \"Pakistan\", \"United Kingdom of Great Britain and Northern Ireland\"], \"xaxis\": \"x\", \"y\": [1656, 606, 227, 68, 106, 81, 104, 107, 81, 113], \"yaxis\": \"y\"}, {\"marker\": {\"color\": [\"#c6ccd8\", \"#c6ccd8\", \"#c6ccd8\", \"#56627d\", \"#c6ccd8\", \"#56627d\", \"#56627d\", \"#56627d\", \"#56627d\", \"#56627d\"], \"line\": {\"width\": 0}, \"size\": [130, 90, 60, 40, 50, 40, 40, 50, 40, 40]}, \"mode\": \"markers\", \"showlegend\": false, \"type\": \"scatter\", \"x\": [\"India\", \"United States of America\", \"Other\", \"Japan\", \"China\", \"Brazil\", \"Russia\", \"Nigeria\", \"Pakistan\", \"United Kingdom of Great Britain and Northern Ireland\"], \"xaxis\": \"x2\", \"y\": [-52, -45, -40, -15, -38, -15, -30, -38, -15, -30], \"yaxis\": \"y2\"}],\n",
              "                        {\"annotations\": [{\"ax\": 0, \"ay\": 0, \"text\": \"<span style='size:16px'><b>India </b></span>\", \"x\": 0.12, \"xref\": \"paper\", \"yref\": \"paper\"}, {\"align\": \"left\", \"ax\": 0, \"ay\": 0, \"text\": \"<span style='size:16px'><b>USA </b></span>\", \"x\": 0.21, \"xref\": \"paper\", \"yref\": \"paper\"}, {\"align\": \"left\", \"ax\": 0, \"ay\": 0, \"text\": \"<span style='size:16px'><b>Other </b></span>\", \"x\": 0.3, \"xref\": \"paper\", \"yref\": \"paper\"}, {\"align\": \"left\", \"ax\": 0, \"ay\": 0, \"text\": \"<span style='size:16px'><b>Japan </b></span>\", \"x\": 0.39, \"xref\": \"paper\", \"yref\": \"paper\"}, {\"align\": \"left\", \"ax\": 0, \"ay\": 0, \"text\": \"<span style='size:16px'><b>China </b></span>\", \"x\": 0.48, \"xref\": \"paper\", \"yref\": \"paper\"}, {\"align\": \"left\", \"ax\": 0, \"ay\": 0, \"text\": \"<span style='size:16px'><b>Brazil </b></span>\", \"x\": 0.56, \"xref\": \"paper\", \"yref\": \"paper\"}, {\"align\": \"left\", \"ax\": 0, \"ay\": 0, \"text\": \"<span style='size:16px'><b>Russia </b></span>\", \"x\": 0.65, \"xref\": \"paper\", \"yref\": \"paper\"}, {\"align\": \"left\", \"ax\": 0, \"ay\": 0, \"text\": \"<span style='size:16px'><b>Nigeria </b></span>\", \"x\": 0.75, \"xref\": \"paper\", \"yref\": \"paper\"}, {\"align\": \"left\", \"ax\": 0, \"ay\": 0, \"text\": \"<span style='size:16px'><b>Pakistan </b></span>\", \"x\": 0.84, \"xref\": \"paper\", \"yref\": \"paper\"}, {\"align\": \"left\", \"ax\": 0, \"ay\": 0, \"text\": \"<span style='size:16px'><b>UK &<br>Northern<br>Ireland </b></span>\", \"x\": 0.92, \"xref\": \"paper\", \"yref\": \"paper\"}], \"font\": {\"color\": \"#8a8d93\"}, \"height\": 750, \"hovermode\": false, \"legend\": {\"orientation\": \"h\", \"x\": 0.5, \"xanchor\": \"center\", \"y\": 0.01, \"yanchor\": \"bottom\"}, \"margin\": {\"b\": 20, \"l\": 0, \"r\": 30, \"t\": 100}, \"paper_bgcolor\": \"#333\", \"plot_bgcolor\": \"#333\", \"shapes\": [{\"line\": {\"color\": \"#c6ccd8\", \"width\": 2}, \"type\": \"line\", \"x0\": 0, \"x1\": 0, \"xref\": \"x2\", \"y0\": 0, \"y1\": -34, \"yref\": \"y2\"}, {\"line\": {\"color\": \"#c6ccd8\", \"width\": 2}, \"type\": \"line\", \"x0\": 1, \"x1\": 1, \"xref\": \"x2\", \"y0\": 0, \"y1\": -33, \"yref\": \"y2\"}, {\"line\": {\"color\": \"#c6ccd8\", \"width\": 2}, \"type\": \"line\", \"x0\": 2, \"x1\": 2, \"xref\": \"x2\", \"y0\": 0, \"y1\": -32, \"yref\": \"y2\"}, {\"line\": {\"color\": \"#c6ccd8\", \"width\": 2}, \"type\": \"line\", \"x0\": 3, \"x1\": 3, \"xref\": \"x2\", \"y0\": 0, \"y1\": -10, \"yref\": \"y2\"}, {\"line\": {\"color\": \"#c6ccd8\", \"width\": 2}, \"type\": \"line\", \"x0\": 4, \"x1\": 4, \"xref\": \"x2\", \"y0\": 0, \"y1\": -31, \"yref\": \"y2\"}, {\"line\": {\"color\": \"#c6ccd8\", \"width\": 2}, \"type\": \"line\", \"x0\": 5, \"x1\": 5, \"xref\": \"x2\", \"y0\": 0, \"y1\": -10, \"yref\": \"y2\"}, {\"line\": {\"color\": \"#c6ccd8\", \"width\": 2}, \"type\": \"line\", \"x0\": 6, \"x1\": 6, \"xref\": \"x2\", \"y0\": 0, \"y1\": -25, \"yref\": \"y2\"}, {\"line\": {\"color\": \"#c6ccd8\", \"width\": 2}, \"type\": \"line\", \"x0\": 7, \"x1\": 7, \"xref\": \"x2\", \"y0\": 0, \"y1\": -31, \"yref\": \"y2\"}, {\"line\": {\"color\": \"#c6ccd8\", \"width\": 2}, \"type\": \"line\", \"x0\": 8, \"x1\": 8, \"xref\": \"x2\", \"y0\": 0, \"y1\": -10, \"yref\": \"y2\"}, {\"line\": {\"color\": \"#c6ccd8\", \"width\": 2}, \"type\": \"line\", \"x0\": 9, \"x1\": 9, \"xref\": \"x2\", \"y0\": 0, \"y1\": -25, \"yref\": \"y2\"}], \"template\": {\"data\": {\"bar\": [{\"error_x\": {\"color\": \"#2a3f5f\"}, \"error_y\": {\"color\": \"#2a3f5f\"}, \"marker\": {\"line\": {\"color\": \"#E5ECF6\", \"width\": 0.5}}, \"type\": \"bar\"}], \"barpolar\": [{\"marker\": {\"line\": {\"color\": \"#E5ECF6\", \"width\": 0.5}}, \"type\": \"barpolar\"}], \"carpet\": [{\"aaxis\": {\"endlinecolor\": \"#2a3f5f\", \"gridcolor\": \"white\", \"linecolor\": \"white\", \"minorgridcolor\": \"white\", \"startlinecolor\": \"#2a3f5f\"}, \"baxis\": {\"endlinecolor\": \"#2a3f5f\", \"gridcolor\": \"white\", \"linecolor\": \"white\", \"minorgridcolor\": \"white\", \"startlinecolor\": \"#2a3f5f\"}, \"type\": \"carpet\"}], \"choropleth\": [{\"colorbar\": {\"outlinewidth\": 0, \"ticks\": \"\"}, \"type\": \"choropleth\"}], \"contour\": [{\"colorbar\": {\"outlinewidth\": 0, \"ticks\": \"\"}, \"colorscale\": [[0.0, \"#0d0887\"], [0.1111111111111111, \"#46039f\"], [0.2222222222222222, \"#7201a8\"], [0.3333333333333333, \"#9c179e\"], [0.4444444444444444, \"#bd3786\"], [0.5555555555555556, \"#d8576b\"], [0.6666666666666666, \"#ed7953\"], [0.7777777777777778, \"#fb9f3a\"], [0.8888888888888888, \"#fdca26\"], [1.0, \"#f0f921\"]], \"type\": \"contour\"}], \"contourcarpet\": [{\"colorbar\": {\"outlinewidth\": 0, \"ticks\": \"\"}, \"type\": \"contourcarpet\"}], \"heatmap\": [{\"colorbar\": {\"outlinewidth\": 0, \"ticks\": \"\"}, \"colorscale\": [[0.0, \"#0d0887\"], [0.1111111111111111, \"#46039f\"], [0.2222222222222222, \"#7201a8\"], [0.3333333333333333, \"#9c179e\"], [0.4444444444444444, \"#bd3786\"], [0.5555555555555556, \"#d8576b\"], [0.6666666666666666, \"#ed7953\"], [0.7777777777777778, \"#fb9f3a\"], [0.8888888888888888, \"#fdca26\"], [1.0, \"#f0f921\"]], \"type\": \"heatmap\"}], \"heatmapgl\": [{\"colorbar\": {\"outlinewidth\": 0, \"ticks\": \"\"}, \"colorscale\": [[0.0, \"#0d0887\"], [0.1111111111111111, \"#46039f\"], [0.2222222222222222, \"#7201a8\"], [0.3333333333333333, \"#9c179e\"], [0.4444444444444444, \"#bd3786\"], [0.5555555555555556, \"#d8576b\"], [0.6666666666666666, \"#ed7953\"], [0.7777777777777778, \"#fb9f3a\"], [0.8888888888888888, \"#fdca26\"], [1.0, \"#f0f921\"]], \"type\": \"heatmapgl\"}], \"histogram\": [{\"marker\": {\"colorbar\": {\"outlinewidth\": 0, \"ticks\": \"\"}}, \"type\": \"histogram\"}], \"histogram2d\": [{\"colorbar\": {\"outlinewidth\": 0, \"ticks\": \"\"}, \"colorscale\": [[0.0, \"#0d0887\"], [0.1111111111111111, \"#46039f\"], [0.2222222222222222, \"#7201a8\"], [0.3333333333333333, \"#9c179e\"], [0.4444444444444444, \"#bd3786\"], [0.5555555555555556, \"#d8576b\"], [0.6666666666666666, \"#ed7953\"], [0.7777777777777778, \"#fb9f3a\"], [0.8888888888888888, \"#fdca26\"], [1.0, \"#f0f921\"]], \"type\": \"histogram2d\"}], \"histogram2dcontour\": [{\"colorbar\": {\"outlinewidth\": 0, \"ticks\": \"\"}, \"colorscale\": [[0.0, \"#0d0887\"], [0.1111111111111111, \"#46039f\"], [0.2222222222222222, \"#7201a8\"], [0.3333333333333333, \"#9c179e\"], [0.4444444444444444, \"#bd3786\"], [0.5555555555555556, \"#d8576b\"], [0.6666666666666666, \"#ed7953\"], [0.7777777777777778, \"#fb9f3a\"], [0.8888888888888888, \"#fdca26\"], [1.0, \"#f0f921\"]], \"type\": \"histogram2dcontour\"}], \"mesh3d\": [{\"colorbar\": {\"outlinewidth\": 0, \"ticks\": \"\"}, \"type\": \"mesh3d\"}], \"parcoords\": [{\"line\": {\"colorbar\": {\"outlinewidth\": 0, \"ticks\": \"\"}}, \"type\": \"parcoords\"}], \"pie\": [{\"automargin\": true, \"type\": \"pie\"}], \"scatter\": [{\"marker\": {\"colorbar\": {\"outlinewidth\": 0, \"ticks\": \"\"}}, \"type\": \"scatter\"}], \"scatter3d\": [{\"line\": {\"colorbar\": {\"outlinewidth\": 0, \"ticks\": \"\"}}, \"marker\": {\"colorbar\": {\"outlinewidth\": 0, \"ticks\": \"\"}}, \"type\": \"scatter3d\"}], \"scattercarpet\": [{\"marker\": {\"colorbar\": {\"outlinewidth\": 0, \"ticks\": \"\"}}, \"type\": \"scattercarpet\"}], \"scattergeo\": [{\"marker\": {\"colorbar\": {\"outlinewidth\": 0, \"ticks\": \"\"}}, \"type\": \"scattergeo\"}], \"scattergl\": [{\"marker\": {\"colorbar\": {\"outlinewidth\": 0, \"ticks\": \"\"}}, \"type\": \"scattergl\"}], \"scattermapbox\": [{\"marker\": {\"colorbar\": {\"outlinewidth\": 0, \"ticks\": \"\"}}, \"type\": \"scattermapbox\"}], \"scatterpolar\": [{\"marker\": {\"colorbar\": {\"outlinewidth\": 0, \"ticks\": \"\"}}, \"type\": \"scatterpolar\"}], \"scatterpolargl\": [{\"marker\": {\"colorbar\": {\"outlinewidth\": 0, \"ticks\": \"\"}}, \"type\": \"scatterpolargl\"}], \"scatterternary\": [{\"marker\": {\"colorbar\": {\"outlinewidth\": 0, \"ticks\": \"\"}}, \"type\": \"scatterternary\"}], \"surface\": [{\"colorbar\": {\"outlinewidth\": 0, \"ticks\": \"\"}, \"colorscale\": [[0.0, \"#0d0887\"], [0.1111111111111111, \"#46039f\"], [0.2222222222222222, \"#7201a8\"], [0.3333333333333333, \"#9c179e\"], [0.4444444444444444, \"#bd3786\"], [0.5555555555555556, \"#d8576b\"], [0.6666666666666666, \"#ed7953\"], [0.7777777777777778, \"#fb9f3a\"], [0.8888888888888888, \"#fdca26\"], [1.0, \"#f0f921\"]], \"type\": \"surface\"}], \"table\": [{\"cells\": {\"fill\": {\"color\": \"#EBF0F8\"}, \"line\": {\"color\": \"white\"}}, \"header\": {\"fill\": {\"color\": \"#C8D4E3\"}, \"line\": {\"color\": \"white\"}}, \"type\": \"table\"}]}, \"layout\": {\"annotationdefaults\": {\"arrowcolor\": \"#2a3f5f\", \"arrowhead\": 0, \"arrowwidth\": 1}, \"coloraxis\": {\"colorbar\": {\"outlinewidth\": 0, \"ticks\": \"\"}}, \"colorscale\": {\"diverging\": [[0, \"#8e0152\"], [0.1, \"#c51b7d\"], [0.2, \"#de77ae\"], [0.3, \"#f1b6da\"], [0.4, \"#fde0ef\"], [0.5, \"#f7f7f7\"], [0.6, \"#e6f5d0\"], [0.7, \"#b8e186\"], [0.8, \"#7fbc41\"], [0.9, \"#4d9221\"], [1, \"#276419\"]], \"sequential\": [[0.0, \"#0d0887\"], [0.1111111111111111, \"#46039f\"], [0.2222222222222222, \"#7201a8\"], [0.3333333333333333, \"#9c179e\"], [0.4444444444444444, \"#bd3786\"], [0.5555555555555556, \"#d8576b\"], [0.6666666666666666, \"#ed7953\"], [0.7777777777777778, \"#fb9f3a\"], [0.8888888888888888, \"#fdca26\"], [1.0, \"#f0f921\"]], \"sequentialminus\": [[0.0, \"#0d0887\"], [0.1111111111111111, \"#46039f\"], [0.2222222222222222, \"#7201a8\"], [0.3333333333333333, \"#9c179e\"], [0.4444444444444444, \"#bd3786\"], [0.5555555555555556, \"#d8576b\"], [0.6666666666666666, \"#ed7953\"], [0.7777777777777778, \"#fb9f3a\"], [0.8888888888888888, \"#fdca26\"], [1.0, \"#f0f921\"]]}, \"colorway\": [\"#636efa\", \"#EF553B\", \"#00cc96\", \"#ab63fa\", \"#FFA15A\", \"#19d3f3\", \"#FF6692\", \"#B6E880\", \"#FF97FF\", \"#FECB52\"], \"font\": {\"color\": \"#2a3f5f\"}, \"geo\": {\"bgcolor\": \"white\", \"lakecolor\": \"white\", \"landcolor\": \"#E5ECF6\", \"showlakes\": true, \"showland\": true, \"subunitcolor\": \"white\"}, \"hoverlabel\": {\"align\": \"left\"}, \"hovermode\": \"closest\", \"mapbox\": {\"style\": \"light\"}, \"paper_bgcolor\": \"white\", \"plot_bgcolor\": \"#E5ECF6\", \"polar\": {\"angularaxis\": {\"gridcolor\": \"white\", \"linecolor\": \"white\", \"ticks\": \"\"}, \"bgcolor\": \"#E5ECF6\", \"radialaxis\": {\"gridcolor\": \"white\", \"linecolor\": \"white\", \"ticks\": \"\"}}, \"scene\": {\"xaxis\": {\"backgroundcolor\": \"#E5ECF6\", \"gridcolor\": \"white\", \"gridwidth\": 2, \"linecolor\": \"white\", \"showbackground\": true, \"ticks\": \"\", \"zerolinecolor\": \"white\"}, \"yaxis\": {\"backgroundcolor\": \"#E5ECF6\", \"gridcolor\": \"white\", \"gridwidth\": 2, \"linecolor\": \"white\", \"showbackground\": true, \"ticks\": \"\", \"zerolinecolor\": \"white\"}, \"zaxis\": {\"backgroundcolor\": \"#E5ECF6\", \"gridcolor\": \"white\", \"gridwidth\": 2, \"linecolor\": \"white\", \"showbackground\": true, \"ticks\": \"\", \"zerolinecolor\": \"white\"}}, \"shapedefaults\": {\"line\": {\"color\": \"#2a3f5f\"}}, \"ternary\": {\"aaxis\": {\"gridcolor\": \"white\", \"linecolor\": \"white\", \"ticks\": \"\"}, \"baxis\": {\"gridcolor\": \"white\", \"linecolor\": \"white\", \"ticks\": \"\"}, \"bgcolor\": \"#E5ECF6\", \"caxis\": {\"gridcolor\": \"white\", \"linecolor\": \"white\", \"ticks\": \"\"}}, \"title\": {\"x\": 0.05}, \"xaxis\": {\"automargin\": true, \"gridcolor\": \"white\", \"linecolor\": \"white\", \"ticks\": \"\", \"title\": {\"standoff\": 15}, \"zerolinecolor\": \"white\", \"zerolinewidth\": 2}, \"yaxis\": {\"automargin\": true, \"gridcolor\": \"white\", \"linecolor\": \"white\", \"ticks\": \"\", \"title\": {\"standoff\": 15}, \"zerolinecolor\": \"white\", \"zerolinewidth\": 2}}}, \"title\": {\"font\": {\"color\": \"#8a8d93\", \"family\": \"Lato, sans-serif\"}, \"text\": \"<span style='font-size:28px; color: #496595'>Top 10 </span> Countries having highest Response: Gender <br><span style='font-size:17px;'> Highest level of experience of<b style='color:#f36196'> Woman </b></span>country wise <span style='font-size:15px; color:#c6ccd8'>(1-3 Years</span> & <span style='font-size:15px; color:#56627d'><1 Year)</span>\"}, \"xaxis\": {\"anchor\": \"y\", \"domain\": [0.0, 1.0], \"matches\": \"x2\", \"showticklabels\": false}, \"xaxis2\": {\"anchor\": \"y2\", \"domain\": [0.0, 1.0], \"visible\": false}, \"yaxis\": {\"anchor\": \"x\", \"domain\": [0.545, 1.0], \"visible\": false}, \"yaxis2\": {\"anchor\": \"x2\", \"domain\": [0.0, 0.455], \"visible\": false}},\n",
              "                        {\"responsive\": true}\n",
              "                    ).then(function(){\n",
              "                            \n",
              "var gd = document.getElementById('22f1c2e0-a712-43e2-bb63-bea277d431e6');\n",
              "var x = new MutationObserver(function (mutations, observer) {{\n",
              "        var display = window.getComputedStyle(gd).display;\n",
              "        if (!display || display === 'none') {{\n",
              "            console.log([gd, 'removed!']);\n",
              "            Plotly.purge(gd);\n",
              "            observer.disconnect();\n",
              "        }}\n",
              "}});\n",
              "\n",
              "// Listen for the removal of the full notebook cells\n",
              "var notebookContainer = gd.closest('#notebook-container');\n",
              "if (notebookContainer) {{\n",
              "    x.observe(notebookContainer, {childList: true});\n",
              "}}\n",
              "\n",
              "// Listen for the clearing of the current output cell\n",
              "var outputEl = gd.closest('.output');\n",
              "if (outputEl) {{\n",
              "    x.observe(outputEl, {childList: true});\n",
              "}}\n",
              "\n",
              "                        })\n",
              "                };\n",
              "                });\n",
              "            </script>\n",
              "        </div>"
            ],
            "application/vnd.plotly.v1+json": {
              "data": [
                {
                  "textposition": "inside",
                  "name": "Man",
                  "yaxis": "y",
                  "text": [
                    5681,
                    1949,
                    1004,
                    836,
                    672,
                    664,
                    630,
                    594,
                    448,
                    429
                  ],
                  "y": [
                    5681,
                    1949,
                    1004,
                    836,
                    672,
                    664,
                    630,
                    594,
                    448,
                    429
                  ],
                  "xaxis": "x",
                  "marker": {
                    "color": "#56627d",
                    "line": {
                      "width": 0
                    }
                  },
                  "x": [
                    "India",
                    "United States of America",
                    "Other",
                    "Japan",
                    "China",
                    "Brazil",
                    "Russia",
                    "Nigeria",
                    "Pakistan",
                    "United Kingdom of Great Britain and Northern Ireland"
                  ],
                  "type": "bar"
                },
                {
                  "textposition": "outside",
                  "name": "Woman",
                  "yaxis": "y",
                  "text": [
                    1656,
                    606,
                    227,
                    68,
                    106,
                    81,
                    104,
                    107,
                    81,
                    113
                  ],
                  "y": [
                    1656,
                    606,
                    227,
                    68,
                    106,
                    81,
                    104,
                    107,
                    81,
                    113
                  ],
                  "xaxis": "x",
                  "marker": {
                    "color": "#f36196",
                    "line": {
                      "width": 0
                    }
                  },
                  "x": [
                    "India",
                    "United States of America",
                    "Other",
                    "Japan",
                    "China",
                    "Brazil",
                    "Russia",
                    "Nigeria",
                    "Pakistan",
                    "United Kingdom of Great Britain and Northern Ireland"
                  ],
                  "type": "bar"
                },
                {
                  "showlegend": false,
                  "yaxis": "y2",
                  "y": [
                    -52,
                    -45,
                    -40,
                    -15,
                    -38,
                    -15,
                    -30,
                    -38,
                    -15,
                    -30
                  ],
                  "mode": "markers",
                  "xaxis": "x2",
                  "marker": {
                    "color": [
                      "#c6ccd8",
                      "#c6ccd8",
                      "#c6ccd8",
                      "#56627d",
                      "#c6ccd8",
                      "#56627d",
                      "#56627d",
                      "#56627d",
                      "#56627d",
                      "#56627d"
                    ],
                    "line": {
                      "width": 0
                    },
                    "size": [
                      130,
                      90,
                      60,
                      40,
                      50,
                      40,
                      40,
                      50,
                      40,
                      40
                    ]
                  },
                  "x": [
                    "India",
                    "United States of America",
                    "Other",
                    "Japan",
                    "China",
                    "Brazil",
                    "Russia",
                    "Nigeria",
                    "Pakistan",
                    "United Kingdom of Great Britain and Northern Ireland"
                  ],
                  "type": "scatter"
                }
              ],
              "config": {
                "plotlyServerURL": "https://plot.ly"
              },
              "layout": {
                "shapes": [
                  {
                    "xref": "x2",
                    "yref": "y2",
                    "y1": -34,
                    "y0": 0,
                    "line": {
                      "color": "#c6ccd8",
                      "width": 2
                    },
                    "x1": 0,
                    "type": "line",
                    "x0": 0
                  },
                  {
                    "xref": "x2",
                    "yref": "y2",
                    "y1": -33,
                    "y0": 0,
                    "line": {
                      "color": "#c6ccd8",
                      "width": 2
                    },
                    "x1": 1,
                    "type": "line",
                    "x0": 1
                  },
                  {
                    "xref": "x2",
                    "yref": "y2",
                    "y1": -32,
                    "y0": 0,
                    "line": {
                      "color": "#c6ccd8",
                      "width": 2
                    },
                    "x1": 2,
                    "type": "line",
                    "x0": 2
                  },
                  {
                    "xref": "x2",
                    "yref": "y2",
                    "y1": -10,
                    "y0": 0,
                    "line": {
                      "color": "#c6ccd8",
                      "width": 2
                    },
                    "x1": 3,
                    "type": "line",
                    "x0": 3
                  },
                  {
                    "xref": "x2",
                    "yref": "y2",
                    "y1": -31,
                    "y0": 0,
                    "line": {
                      "color": "#c6ccd8",
                      "width": 2
                    },
                    "x1": 4,
                    "type": "line",
                    "x0": 4
                  },
                  {
                    "xref": "x2",
                    "yref": "y2",
                    "y1": -10,
                    "y0": 0,
                    "line": {
                      "color": "#c6ccd8",
                      "width": 2
                    },
                    "x1": 5,
                    "type": "line",
                    "x0": 5
                  },
                  {
                    "xref": "x2",
                    "yref": "y2",
                    "y1": -25,
                    "y0": 0,
                    "line": {
                      "color": "#c6ccd8",
                      "width": 2
                    },
                    "x1": 6,
                    "type": "line",
                    "x0": 6
                  },
                  {
                    "xref": "x2",
                    "yref": "y2",
                    "y1": -31,
                    "y0": 0,
                    "line": {
                      "color": "#c6ccd8",
                      "width": 2
                    },
                    "x1": 7,
                    "type": "line",
                    "x0": 7
                  },
                  {
                    "xref": "x2",
                    "yref": "y2",
                    "y1": -10,
                    "y0": 0,
                    "line": {
                      "color": "#c6ccd8",
                      "width": 2
                    },
                    "x1": 8,
                    "type": "line",
                    "x0": 8
                  },
                  {
                    "xref": "x2",
                    "yref": "y2",
                    "y1": -25,
                    "y0": 0,
                    "line": {
                      "color": "#c6ccd8",
                      "width": 2
                    },
                    "x1": 9,
                    "type": "line",
                    "x0": 9
                  }
                ],
                "xaxis": {
                  "matches": "x2",
                  "domain": [
                    0,
                    1
                  ],
                  "showticklabels": false,
                  "anchor": "y"
                },
                "title": {
                  "text": "<span style='font-size:28px; color: #496595'>Top 10 </span> Countries having highest Response: Gender <br><span style='font-size:17px;'> Highest level of experience of<b style='color:#f36196'> Woman </b></span>country wise <span style='font-size:15px; color:#c6ccd8'>(1-3 Years</span> & <span style='font-size:15px; color:#56627d'><1 Year)</span>",
                  "font": {
                    "color": "#8a8d93",
                    "family": "Lato, sans-serif"
                  }
                },
                "paper_bgcolor": "#333",
                "plot_bgcolor": "#333",
                "yaxis": {
                  "visible": false,
                  "domain": [
                    0.545,
                    1
                  ],
                  "anchor": "x"
                },
                "xaxis2": {
                  "visible": false,
                  "domain": [
                    0,
                    1
                  ],
                  "anchor": "y2"
                },
                "annotations": [
                  {
                    "xref": "paper",
                    "yref": "paper",
                    "text": "<span style='size:16px'><b>India </b></span>",
                    "x": 0.12,
                    "ay": 0,
                    "ax": 0
                  },
                  {
                    "xref": "paper",
                    "yref": "paper",
                    "text": "<span style='size:16px'><b>USA </b></span>",
                    "align": "left",
                    "x": 0.21,
                    "ay": 0,
                    "ax": 0
                  },
                  {
                    "xref": "paper",
                    "yref": "paper",
                    "text": "<span style='size:16px'><b>Other </b></span>",
                    "align": "left",
                    "x": 0.3,
                    "ay": 0,
                    "ax": 0
                  },
                  {
                    "xref": "paper",
                    "yref": "paper",
                    "text": "<span style='size:16px'><b>Japan </b></span>",
                    "align": "left",
                    "x": 0.39,
                    "ay": 0,
                    "ax": 0
                  },
                  {
                    "xref": "paper",
                    "yref": "paper",
                    "text": "<span style='size:16px'><b>China </b></span>",
                    "align": "left",
                    "x": 0.48,
                    "ay": 0,
                    "ax": 0
                  },
                  {
                    "xref": "paper",
                    "yref": "paper",
                    "text": "<span style='size:16px'><b>Brazil </b></span>",
                    "align": "left",
                    "x": 0.56,
                    "ay": 0,
                    "ax": 0
                  },
                  {
                    "xref": "paper",
                    "yref": "paper",
                    "text": "<span style='size:16px'><b>Russia </b></span>",
                    "align": "left",
                    "x": 0.65,
                    "ay": 0,
                    "ax": 0
                  },
                  {
                    "xref": "paper",
                    "yref": "paper",
                    "text": "<span style='size:16px'><b>Nigeria </b></span>",
                    "align": "left",
                    "x": 0.75,
                    "ay": 0,
                    "ax": 0
                  },
                  {
                    "xref": "paper",
                    "yref": "paper",
                    "text": "<span style='size:16px'><b>Pakistan </b></span>",
                    "align": "left",
                    "x": 0.84,
                    "ay": 0,
                    "ax": 0
                  },
                  {
                    "xref": "paper",
                    "yref": "paper",
                    "text": "<span style='size:16px'><b>UK &<br>Northern<br>Ireland </b></span>",
                    "align": "left",
                    "x": 0.92,
                    "ay": 0,
                    "ax": 0
                  }
                ],
                "height": 750,
                "yaxis2": {
                  "visible": false,
                  "domain": [
                    0,
                    0.455
                  ],
                  "anchor": "x2"
                },
                "template": {
                  "layout": {
                    "shapedefaults": {
                      "line": {
                        "color": "#2a3f5f"
                      }
                    },
                    "polar": {
                      "radialaxis": {
                        "ticks": "",
                        "gridcolor": "white",
                        "linecolor": "white"
                      },
                      "bgcolor": "#E5ECF6",
                      "angularaxis": {
                        "ticks": "",
                        "gridcolor": "white",
                        "linecolor": "white"
                      }
                    },
                    "colorway": [
                      "#636efa",
                      "#EF553B",
                      "#00cc96",
                      "#ab63fa",
                      "#FFA15A",
                      "#19d3f3",
                      "#FF6692",
                      "#B6E880",
                      "#FF97FF",
                      "#FECB52"
                    ],
                    "xaxis": {
                      "automargin": true,
                      "title": {
                        "standoff": 15
                      },
                      "zerolinewidth": 2,
                      "ticks": "",
                      "zerolinecolor": "white",
                      "gridcolor": "white",
                      "linecolor": "white"
                    },
                    "colorscale": {
                      "diverging": [
                        [
                          0,
                          "#8e0152"
                        ],
                        [
                          0.1,
                          "#c51b7d"
                        ],
                        [
                          0.2,
                          "#de77ae"
                        ],
                        [
                          0.3,
                          "#f1b6da"
                        ],
                        [
                          0.4,
                          "#fde0ef"
                        ],
                        [
                          0.5,
                          "#f7f7f7"
                        ],
                        [
                          0.6,
                          "#e6f5d0"
                        ],
                        [
                          0.7,
                          "#b8e186"
                        ],
                        [
                          0.8,
                          "#7fbc41"
                        ],
                        [
                          0.9,
                          "#4d9221"
                        ],
                        [
                          1,
                          "#276419"
                        ]
                      ],
                      "sequential": [
                        [
                          0,
                          "#0d0887"
                        ],
                        [
                          0.1111111111111111,
                          "#46039f"
                        ],
                        [
                          0.2222222222222222,
                          "#7201a8"
                        ],
                        [
                          0.3333333333333333,
                          "#9c179e"
                        ],
                        [
                          0.4444444444444444,
                          "#bd3786"
                        ],
                        [
                          0.5555555555555556,
                          "#d8576b"
                        ],
                        [
                          0.6666666666666666,
                          "#ed7953"
                        ],
                        [
                          0.7777777777777778,
                          "#fb9f3a"
                        ],
                        [
                          0.8888888888888888,
                          "#fdca26"
                        ],
                        [
                          1,
                          "#f0f921"
                        ]
                      ],
                      "sequentialminus": [
                        [
                          0,
                          "#0d0887"
                        ],
                        [
                          0.1111111111111111,
                          "#46039f"
                        ],
                        [
                          0.2222222222222222,
                          "#7201a8"
                        ],
                        [
                          0.3333333333333333,
                          "#9c179e"
                        ],
                        [
                          0.4444444444444444,
                          "#bd3786"
                        ],
                        [
                          0.5555555555555556,
                          "#d8576b"
                        ],
                        [
                          0.6666666666666666,
                          "#ed7953"
                        ],
                        [
                          0.7777777777777778,
                          "#fb9f3a"
                        ],
                        [
                          0.8888888888888888,
                          "#fdca26"
                        ],
                        [
                          1,
                          "#f0f921"
                        ]
                      ]
                    },
                    "paper_bgcolor": "white",
                    "plot_bgcolor": "#E5ECF6",
                    "title": {
                      "x": 0.05
                    },
                    "scene": {
                      "zaxis": {
                        "backgroundcolor": "#E5ECF6",
                        "ticks": "",
                        "gridwidth": 2,
                        "showbackground": true,
                        "zerolinecolor": "white",
                        "gridcolor": "white",
                        "linecolor": "white"
                      },
                      "xaxis": {
                        "backgroundcolor": "#E5ECF6",
                        "ticks": "",
                        "gridwidth": 2,
                        "showbackground": true,
                        "zerolinecolor": "white",
                        "gridcolor": "white",
                        "linecolor": "white"
                      },
                      "yaxis": {
                        "backgroundcolor": "#E5ECF6",
                        "ticks": "",
                        "gridwidth": 2,
                        "showbackground": true,
                        "zerolinecolor": "white",
                        "gridcolor": "white",
                        "linecolor": "white"
                      }
                    },
                    "yaxis": {
                      "automargin": true,
                      "title": {
                        "standoff": 15
                      },
                      "zerolinewidth": 2,
                      "ticks": "",
                      "zerolinecolor": "white",
                      "gridcolor": "white",
                      "linecolor": "white"
                    },
                    "annotationdefaults": {
                      "arrowwidth": 1,
                      "arrowhead": 0,
                      "arrowcolor": "#2a3f5f"
                    },
                    "hoverlabel": {
                      "align": "left"
                    },
                    "ternary": {
                      "bgcolor": "#E5ECF6",
                      "baxis": {
                        "ticks": "",
                        "gridcolor": "white",
                        "linecolor": "white"
                      },
                      "caxis": {
                        "ticks": "",
                        "gridcolor": "white",
                        "linecolor": "white"
                      },
                      "aaxis": {
                        "ticks": "",
                        "gridcolor": "white",
                        "linecolor": "white"
                      }
                    },
                    "mapbox": {
                      "style": "light"
                    },
                    "hovermode": "closest",
                    "font": {
                      "color": "#2a3f5f"
                    },
                    "geo": {
                      "showland": true,
                      "landcolor": "#E5ECF6",
                      "showlakes": true,
                      "bgcolor": "white",
                      "subunitcolor": "white",
                      "lakecolor": "white"
                    },
                    "coloraxis": {
                      "colorbar": {
                        "outlinewidth": 0,
                        "ticks": ""
                      }
                    }
                  },
                  "data": {
                    "mesh3d": [
                      {
                        "colorbar": {
                          "outlinewidth": 0,
                          "ticks": ""
                        },
                        "type": "mesh3d"
                      }
                    ],
                    "scattercarpet": [
                      {
                        "marker": {
                          "colorbar": {
                            "outlinewidth": 0,
                            "ticks": ""
                          }
                        },
                        "type": "scattercarpet"
                      }
                    ],
                    "pie": [
                      {
                        "automargin": true,
                        "type": "pie"
                      }
                    ],
                    "surface": [
                      {
                        "colorbar": {
                          "outlinewidth": 0,
                          "ticks": ""
                        },
                        "type": "surface",
                        "colorscale": [
                          [
                            0,
                            "#0d0887"
                          ],
                          [
                            0.1111111111111111,
                            "#46039f"
                          ],
                          [
                            0.2222222222222222,
                            "#7201a8"
                          ],
                          [
                            0.3333333333333333,
                            "#9c179e"
                          ],
                          [
                            0.4444444444444444,
                            "#bd3786"
                          ],
                          [
                            0.5555555555555556,
                            "#d8576b"
                          ],
                          [
                            0.6666666666666666,
                            "#ed7953"
                          ],
                          [
                            0.7777777777777778,
                            "#fb9f3a"
                          ],
                          [
                            0.8888888888888888,
                            "#fdca26"
                          ],
                          [
                            1,
                            "#f0f921"
                          ]
                        ]
                      }
                    ],
                    "table": [
                      {
                        "header": {
                          "line": {
                            "color": "white"
                          },
                          "fill": {
                            "color": "#C8D4E3"
                          }
                        },
                        "cells": {
                          "line": {
                            "color": "white"
                          },
                          "fill": {
                            "color": "#EBF0F8"
                          }
                        },
                        "type": "table"
                      }
                    ],
                    "scatterpolargl": [
                      {
                        "marker": {
                          "colorbar": {
                            "outlinewidth": 0,
                            "ticks": ""
                          }
                        },
                        "type": "scatterpolargl"
                      }
                    ],
                    "contour": [
                      {
                        "colorbar": {
                          "outlinewidth": 0,
                          "ticks": ""
                        },
                        "type": "contour",
                        "colorscale": [
                          [
                            0,
                            "#0d0887"
                          ],
                          [
                            0.1111111111111111,
                            "#46039f"
                          ],
                          [
                            0.2222222222222222,
                            "#7201a8"
                          ],
                          [
                            0.3333333333333333,
                            "#9c179e"
                          ],
                          [
                            0.4444444444444444,
                            "#bd3786"
                          ],
                          [
                            0.5555555555555556,
                            "#d8576b"
                          ],
                          [
                            0.6666666666666666,
                            "#ed7953"
                          ],
                          [
                            0.7777777777777778,
                            "#fb9f3a"
                          ],
                          [
                            0.8888888888888888,
                            "#fdca26"
                          ],
                          [
                            1,
                            "#f0f921"
                          ]
                        ]
                      }
                    ],
                    "carpet": [
                      {
                        "type": "carpet",
                        "baxis": {
                          "minorgridcolor": "white",
                          "gridcolor": "white",
                          "linecolor": "white",
                          "endlinecolor": "#2a3f5f",
                          "startlinecolor": "#2a3f5f"
                        },
                        "aaxis": {
                          "minorgridcolor": "white",
                          "gridcolor": "white",
                          "linecolor": "white",
                          "endlinecolor": "#2a3f5f",
                          "startlinecolor": "#2a3f5f"
                        }
                      }
                    ],
                    "contourcarpet": [
                      {
                        "colorbar": {
                          "outlinewidth": 0,
                          "ticks": ""
                        },
                        "type": "contourcarpet"
                      }
                    ],
                    "heatmap": [
                      {
                        "colorbar": {
                          "outlinewidth": 0,
                          "ticks": ""
                        },
                        "type": "heatmap",
                        "colorscale": [
                          [
                            0,
                            "#0d0887"
                          ],
                          [
                            0.1111111111111111,
                            "#46039f"
                          ],
                          [
                            0.2222222222222222,
                            "#7201a8"
                          ],
                          [
                            0.3333333333333333,
                            "#9c179e"
                          ],
                          [
                            0.4444444444444444,
                            "#bd3786"
                          ],
                          [
                            0.5555555555555556,
                            "#d8576b"
                          ],
                          [
                            0.6666666666666666,
                            "#ed7953"
                          ],
                          [
                            0.7777777777777778,
                            "#fb9f3a"
                          ],
                          [
                            0.8888888888888888,
                            "#fdca26"
                          ],
                          [
                            1,
                            "#f0f921"
                          ]
                        ]
                      }
                    ],
                    "scattermapbox": [
                      {
                        "marker": {
                          "colorbar": {
                            "outlinewidth": 0,
                            "ticks": ""
                          }
                        },
                        "type": "scattermapbox"
                      }
                    ],
                    "scatter3d": [
                      {
                        "marker": {
                          "colorbar": {
                            "outlinewidth": 0,
                            "ticks": ""
                          }
                        },
                        "line": {
                          "colorbar": {
                            "outlinewidth": 0,
                            "ticks": ""
                          }
                        },
                        "type": "scatter3d"
                      }
                    ],
                    "scattergl": [
                      {
                        "marker": {
                          "colorbar": {
                            "outlinewidth": 0,
                            "ticks": ""
                          }
                        },
                        "type": "scattergl"
                      }
                    ],
                    "scatterternary": [
                      {
                        "marker": {
                          "colorbar": {
                            "outlinewidth": 0,
                            "ticks": ""
                          }
                        },
                        "type": "scatterternary"
                      }
                    ],
                    "histogram": [
                      {
                        "marker": {
                          "colorbar": {
                            "outlinewidth": 0,
                            "ticks": ""
                          }
                        },
                        "type": "histogram"
                      }
                    ],
                    "heatmapgl": [
                      {
                        "colorbar": {
                          "outlinewidth": 0,
                          "ticks": ""
                        },
                        "type": "heatmapgl",
                        "colorscale": [
                          [
                            0,
                            "#0d0887"
                          ],
                          [
                            0.1111111111111111,
                            "#46039f"
                          ],
                          [
                            0.2222222222222222,
                            "#7201a8"
                          ],
                          [
                            0.3333333333333333,
                            "#9c179e"
                          ],
                          [
                            0.4444444444444444,
                            "#bd3786"
                          ],
                          [
                            0.5555555555555556,
                            "#d8576b"
                          ],
                          [
                            0.6666666666666666,
                            "#ed7953"
                          ],
                          [
                            0.7777777777777778,
                            "#fb9f3a"
                          ],
                          [
                            0.8888888888888888,
                            "#fdca26"
                          ],
                          [
                            1,
                            "#f0f921"
                          ]
                        ]
                      }
                    ],
                    "scatterpolar": [
                      {
                        "marker": {
                          "colorbar": {
                            "outlinewidth": 0,
                            "ticks": ""
                          }
                        },
                        "type": "scatterpolar"
                      }
                    ],
                    "histogram2d": [
                      {
                        "colorbar": {
                          "outlinewidth": 0,
                          "ticks": ""
                        },
                        "type": "histogram2d",
                        "colorscale": [
                          [
                            0,
                            "#0d0887"
                          ],
                          [
                            0.1111111111111111,
                            "#46039f"
                          ],
                          [
                            0.2222222222222222,
                            "#7201a8"
                          ],
                          [
                            0.3333333333333333,
                            "#9c179e"
                          ],
                          [
                            0.4444444444444444,
                            "#bd3786"
                          ],
                          [
                            0.5555555555555556,
                            "#d8576b"
                          ],
                          [
                            0.6666666666666666,
                            "#ed7953"
                          ],
                          [
                            0.7777777777777778,
                            "#fb9f3a"
                          ],
                          [
                            0.8888888888888888,
                            "#fdca26"
                          ],
                          [
                            1,
                            "#f0f921"
                          ]
                        ]
                      }
                    ],
                    "scattergeo": [
                      {
                        "marker": {
                          "colorbar": {
                            "outlinewidth": 0,
                            "ticks": ""
                          }
                        },
                        "type": "scattergeo"
                      }
                    ],
                    "bar": [
                      {
                        "marker": {
                          "line": {
                            "color": "#E5ECF6",
                            "width": 0.5
                          }
                        },
                        "type": "bar",
                        "error_x": {
                          "color": "#2a3f5f"
                        },
                        "error_y": {
                          "color": "#2a3f5f"
                        }
                      }
                    ],
                    "choropleth": [
                      {
                        "colorbar": {
                          "outlinewidth": 0,
                          "ticks": ""
                        },
                        "type": "choropleth"
                      }
                    ],
                    "parcoords": [
                      {
                        "line": {
                          "colorbar": {
                            "outlinewidth": 0,
                            "ticks": ""
                          }
                        },
                        "type": "parcoords"
                      }
                    ],
                    "barpolar": [
                      {
                        "marker": {
                          "line": {
                            "color": "#E5ECF6",
                            "width": 0.5
                          }
                        },
                        "type": "barpolar"
                      }
                    ],
                    "histogram2dcontour": [
                      {
                        "colorbar": {
                          "outlinewidth": 0,
                          "ticks": ""
                        },
                        "type": "histogram2dcontour",
                        "colorscale": [
                          [
                            0,
                            "#0d0887"
                          ],
                          [
                            0.1111111111111111,
                            "#46039f"
                          ],
                          [
                            0.2222222222222222,
                            "#7201a8"
                          ],
                          [
                            0.3333333333333333,
                            "#9c179e"
                          ],
                          [
                            0.4444444444444444,
                            "#bd3786"
                          ],
                          [
                            0.5555555555555556,
                            "#d8576b"
                          ],
                          [
                            0.6666666666666666,
                            "#ed7953"
                          ],
                          [
                            0.7777777777777778,
                            "#fb9f3a"
                          ],
                          [
                            0.8888888888888888,
                            "#fdca26"
                          ],
                          [
                            1,
                            "#f0f921"
                          ]
                        ]
                      }
                    ],
                    "scatter": [
                      {
                        "marker": {
                          "colorbar": {
                            "outlinewidth": 0,
                            "ticks": ""
                          }
                        },
                        "type": "scatter"
                      }
                    ]
                  }
                },
                "hovermode": false,
                "font": {
                  "color": "#8a8d93"
                },
                "margin": {
                  "r": 30,
                  "b": 20,
                  "l": 0,
                  "t": 100
                },
                "legend": {
                  "y": 0.01,
                  "x": 0.5,
                  "xanchor": "center",
                  "orientation": "h",
                  "yanchor": "bottom"
                }
              }
            }
          },
          "metadata": {}
        }
      ]
    }
  ]
}